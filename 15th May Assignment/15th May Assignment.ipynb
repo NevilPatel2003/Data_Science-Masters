{
 "cells": [
  {
   "cell_type": "code",
   "execution_count": null,
   "id": "ee2eb8c8-575e-4485-bf1f-00cc7af3f0b5",
   "metadata": {},
   "outputs": [],
   "source": [
    "\"\"\"\n",
    "Q1. How do you comment code in Python? What are the different types of comments?\n",
    "\n",
    "Ans :-\n",
    "We comment code to explain a particular line of code.\n",
    "While executing a code a comment is ignored by the compiler.\n",
    "\n",
    "There are 2 types of comments :-\n",
    "\n",
    "-> Single line comment\n",
    "-> Multi line comment\n",
    "\"\"\"\n",
    "\n",
    "# Single line comment\n",
    "# Syntax = # (comment)\n",
    "\n",
    "# Example :- \n",
    "\n",
    "# This all are a single line comment.\n",
    "\n",
    "# Multi line comment\n",
    "# Syntax = \"\"\" (comment) \"\"\" or ''' (comment) '''\n",
    "\n",
    "# Example :-\n",
    "\"\"\"\n",
    "This is a multi line comment.\n",
    "It is used to comment out multiple lines\n",
    "\"\"\""
   ]
  },
  {
   "cell_type": "code",
   "execution_count": 4,
   "id": "d798b7f0-e668-4684-93fd-7091f056c2bf",
   "metadata": {},
   "outputs": [
    {
     "data": {
      "text/plain": [
       "3"
      ]
     },
     "execution_count": 4,
     "metadata": {},
     "output_type": "execute_result"
    }
   ],
   "source": [
    "\"\"\"\n",
    "Q2. What are variables in Python? How do you declare and assign values to variables?\n",
    "\n",
    "Ans :-\n",
    "Variables are kind of containers in which we can store a value.\n",
    "\"\"\"\n",
    "a = 3\n",
    "# Here a is a variable and 3 is a valiue which is assigned to a variable\n",
    "print(a)"
   ]
  },
  {
   "cell_type": "code",
   "execution_count": 5,
   "id": "7f394430-f827-41ec-9a2e-1b112ba7032a",
   "metadata": {},
   "outputs": [
    {
     "name": "stdout",
     "output_type": "stream",
     "text": [
      "<class 'int'>\n",
      "<class 'float'>\n",
      "<class 'str'>\n"
     ]
    }
   ],
   "source": [
    "\"\"\"\n",
    "Q3. How do you convert one data type to another in Python?\n",
    "\n",
    "Ans :-\n",
    "\"\"\"\n",
    "a = 3\n",
    "print(type(a))        # int\n",
    "print(type(float(a))) # float    int to float\n",
    "print(type(str(a)))   # str      int to str"
   ]
  },
  {
   "cell_type": "code",
   "execution_count": null,
   "id": "04078307-2820-49cd-9f9d-8f2514cf0a71",
   "metadata": {},
   "outputs": [],
   "source": [
    "\"\"\"\n",
    "Q4. How do you write and execute a Python script from the command line?\n",
    "\n",
    "Ans :-\n",
    "\n",
    "To start a Python interactive session, just open a command-line or terminal and then type in python, or python3 depending on your Python installation, \n",
    "and then hit ENTER. \n",
    "\n",
    "The standard prompt for the interactive mode is >>>, so as soon as you see these characters, you’ll know you are in.\n",
    "\n",
    "Now, you can write and run Python code as you wish, with the only drawback being that when you close the session, your code will be gone.\n",
    "\n",
    "When you work interactively, every expression and statement you type in is evaluated and executed immediately.\n",
    "\n",
    "An interactive session will allow you to test every piece of code you write, which makes it an awesome development tool and an excellent place to \n",
    "experiment with the language and test Python code on the fly.\n",
    "\"\"\""
   ]
  },
  {
   "cell_type": "code",
   "execution_count": 6,
   "id": "aee87c25-55c1-4cb0-9807-febd0825b4b1",
   "metadata": {},
   "outputs": [
    {
     "name": "stdout",
     "output_type": "stream",
     "text": [
      "[2, 3]\n"
     ]
    }
   ],
   "source": [
    "\"\"\"\n",
    "Q5. Given a list my_list = [1, 2, 3, 4, 5], write the code to slice the list and obtain the sub-list [2, 3].\n",
    "\n",
    "Ans :-\n",
    "\"\"\"\n",
    "\n",
    "my_list = [1, 2, 3, 4, 5]\n",
    "print(my_list[1:3])\n"
   ]
  },
  {
   "cell_type": "code",
   "execution_count": 7,
   "id": "30996fc0-2533-4a60-8acb-c4ff9c8553a2",
   "metadata": {},
   "outputs": [
    {
     "name": "stdout",
     "output_type": "stream",
     "text": [
      "<class 'complex'>\n",
      "(3+8j)\n",
      "3.0\n",
      "8.0\n",
      "<class 'complex'>\n",
      "(3+8j)\n",
      "3.0\n",
      "8.0\n"
     ]
    }
   ],
   "source": [
    "\"\"\"\n",
    "Q6. What is a complex number in mathematics, and how is it represented in Python?\n",
    "\n",
    "Ans :-\n",
    "A complex number in mathematics is a number which contains a real part as well as an imaginary part.\n",
    "It is represented in python as follows :\n",
    "\"\"\"\n",
    "\n",
    "a = 3 + 8j\n",
    "# where 3 is real part and 8 is imaginary part.\n",
    "\n",
    "print(type(a))    # complex\n",
    "print(a)          # 3 + 8j\n",
    "print(a.real)     # 3\n",
    "print(a.imag)     # 8\n",
    "\n",
    "b = complex(3, 8)\n",
    "# where 3 is real part and 8 is imaginary part.\n",
    "\n",
    "print(type(a))    # complex\n",
    "print(a)          # 3 + 8j\n",
    "print(a.real)     # 3\n",
    "print(a.imag)     # 8\n"
   ]
  },
  {
   "cell_type": "code",
   "execution_count": 8,
   "id": "091488a9-bc94-4b1a-9534-2e84e33161d3",
   "metadata": {},
   "outputs": [
    {
     "name": "stdin",
     "output_type": "stream",
     "text": [
      "Enter youe age :-  20\n"
     ]
    },
    {
     "name": "stdout",
     "output_type": "stream",
     "text": [
      "20\n"
     ]
    }
   ],
   "source": [
    "\"\"\"\n",
    "Q7. What is the correct way to declare a variable named age and assign the value 25 to it?\n",
    "\n",
    "Ans :-\n",
    "\"\"\"\n",
    "\n",
    "a = int(input(\"Enter youe age :- \"))\n",
    "print(a)"
   ]
  },
  {
   "cell_type": "code",
   "execution_count": 9,
   "id": "c557196a-5938-4b96-ab4c-c6613daa14c4",
   "metadata": {},
   "outputs": [
    {
     "data": {
      "text/plain": [
       "float"
      ]
     },
     "execution_count": 9,
     "metadata": {},
     "output_type": "execute_result"
    }
   ],
   "source": [
    "\"\"\"\n",
    "Q8. Declare a variable named price and assign the value 9.99 to it. What data type does this variable\n",
    "belong to?\n",
    "\n",
    "Ans :-\n",
    "\"\"\"\n",
    "\n",
    "price = 9.99\n",
    "type(price)"
   ]
  },
  {
   "cell_type": "code",
   "execution_count": 10,
   "id": "df391182-506a-42e2-8708-b2e36f1c51fb",
   "metadata": {},
   "outputs": [
    {
     "name": "stdout",
     "output_type": "stream",
     "text": [
      "Nevil Patel\n"
     ]
    }
   ],
   "source": [
    "\"\"\"\n",
    "Q9. Create a variable named name and assign your full name to it as a string. How would you print the\n",
    "value of this variable?\n",
    "\n",
    "Ans :-\n",
    "\"\"\"\n",
    "\n",
    "Name = \"Nevil Patel\"\n",
    "print(Name)\n"
   ]
  },
  {
   "cell_type": "code",
   "execution_count": 12,
   "id": "1282166d-7427-4e2c-b7fa-b3d018f1cef6",
   "metadata": {},
   "outputs": [
    {
     "name": "stdout",
     "output_type": "stream",
     "text": [
      "Hello\n"
     ]
    }
   ],
   "source": [
    "\"\"\"\n",
    "Q10. Given the string \"Hello, World!\", extract the substring \"World\".\n",
    "\n",
    "Ans :-\n",
    "\"\"\"\n",
    "\n",
    "a = \"Hello, World!\"\n",
    "print(a[0:5])\n"
   ]
  },
  {
   "cell_type": "code",
   "execution_count": 14,
   "id": "68a73197-2b8a-42a9-adf2-8f9ccaf83265",
   "metadata": {},
   "outputs": [
    {
     "name": "stdout",
     "output_type": "stream",
     "text": [
      "True\n"
     ]
    }
   ],
   "source": [
    "\"\"\"\n",
    "Q11. Create a variable named \"is_student\" and assign it a boolean value indicating whether you are\n",
    "currently a student or not.\n",
    "\n",
    "Ans :-\n",
    "\"\"\"\n",
    "is_student = True\n",
    "print(is_student)\n"
   ]
  },
  {
   "cell_type": "code",
   "execution_count": null,
   "id": "11cab569-48f5-4d8f-af95-a1c796ca5aa2",
   "metadata": {},
   "outputs": [],
   "source": []
  }
 ],
 "metadata": {
  "kernelspec": {
   "display_name": "Python 3 (ipykernel)",
   "language": "python",
   "name": "python3"
  },
  "language_info": {
   "codemirror_mode": {
    "name": "ipython",
    "version": 3
   },
   "file_extension": ".py",
   "mimetype": "text/x-python",
   "name": "python",
   "nbconvert_exporter": "python",
   "pygments_lexer": "ipython3",
   "version": "3.10.8"
  }
 },
 "nbformat": 4,
 "nbformat_minor": 5
}
