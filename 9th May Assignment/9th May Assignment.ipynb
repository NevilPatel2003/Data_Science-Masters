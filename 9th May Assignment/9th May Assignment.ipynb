{
 "cells": [
  {
   "cell_type": "code",
   "execution_count": null,
   "id": "02176098-3521-46fe-97fe-e74821916cfc",
   "metadata": {},
   "outputs": [],
   "source": [
    "\"\"\"\n",
    "Q1. Create one variable containing following type of data:\n",
    "(i) string\n",
    "(ii) list\n",
    "(iii) float\n",
    "(iv) tuple\n",
    "\n",
    "Ans :-\n",
    "\"\"\"\n",
    "\n",
    "l = [ \"String\", [ 1, 2, 3, \"Nevil\", 44.4 ], 55.55, (\"Nevil\", \"Rohit\") ] \n",
    "type (l)"
   ]
  },
  {
   "cell_type": "code",
   "execution_count": null,
   "id": "1669ea71-3372-4dd5-969f-3fbb921a6557",
   "metadata": {},
   "outputs": [],
   "source": [
    "\"\"\"\n",
    "Q2. Given are some following variables containing data:\n",
    "(i) var1 = ‘ ‘\n",
    "(ii) var2 = ‘[ DS , ML , Python]’\n",
    "(iii) var3 = [ ‘DS’ , ’ML’ , ‘Python’ ]\n",
    "(iv) var4 = 1.\n",
    "\n",
    "What will be the data type of the above given variable.\n",
    "\n",
    "Ans :-\n",
    "\n",
    "(i) String\n",
    "(ii) String\n",
    "(iii) List\n",
    "(iv) int\n",
    "\"\"\""
   ]
  },
  {
   "cell_type": "code",
   "execution_count": null,
   "id": "b5b78c13-89ea-48b1-a221-56147ab3496f",
   "metadata": {},
   "outputs": [],
   "source": [
    "\"\"\"\n",
    "Q3. Explain the use of the following operators using an example:\n",
    "(i) /\n",
    "(ii) %\n",
    "(iii) //\n",
    "(iv) **\n",
    "\n",
    "Ans :-\n",
    "\n",
    "(i) It is a division operator. It is a type of arithematic operator which performs division operation.\n",
    "(ii) It is a modulo operator. It is a type of arithematic operator which gives remainder as a result.\n",
    "(iii) It is a floor divison operator. It performs divison on twoo numbers and gives us the nearest rounded off result.\n",
    "(iv) It is a power operator. Suppose there are two numbers a nd b. Then a**b will give us a power b.\n",
    "\"\"\""
   ]
  },
  {
   "cell_type": "code",
   "execution_count": null,
   "id": "4fd0b379-0613-48de-b346-ac17d79463bf",
   "metadata": {},
   "outputs": [],
   "source": [
    "\"\"\"\n",
    "Q4. Create a list of length 10 of your choice containing multiple types of data. Using for loop print the\n",
    "element and its data type.\n",
    "\n",
    "Ans :-\n",
    "\"\"\"\n",
    "List = [ 11, 12, 13, 14.5, \"Nevil\", 10 + 10j, True, False, [ 1, 2, 'Kunj'], ( 1 , \"Ravi\") ]\n",
    "for i in List :\n",
    "        print (i)\n",
    "        print (type(i))"
   ]
  },
  {
   "cell_type": "code",
   "execution_count": null,
   "id": "89ffe6c8-fc4b-4b12-8f9f-15c8222d7593",
   "metadata": {},
   "outputs": [],
   "source": [
    "\"\"\"\n",
    "Q5. Using a while loop, verify if the number A is purely divisible by number B and if so then how many\n",
    "times it can be divisible.\n",
    "\n",
    "Ans :-\n",
    "\"\"\"\n",
    "\n",
    "a = int(input(\"Enter a number = \"))\n",
    "b = int(input(\"Enter a number = \"))\n",
    "count = 0\n",
    "while a % b == 0 :\n",
    "    Ans = a / b\n",
    "    print(f\"{a} is purely divisible by {b}\")\n",
    "    count = count+1\n",
    "    a = Ans\n",
    "if a % b != 0 :\n",
    "    print(f\"{a} is not purely divisible by {b}\")\n",
    "    \n",
    "print(count)"
   ]
  },
  {
   "cell_type": "code",
   "execution_count": null,
   "id": "aa121456-dcff-4bba-ba33-5021be31b342",
   "metadata": {},
   "outputs": [],
   "source": [
    "\"\"\"\n",
    "Q6. Create a list containing 25 int type data. Using for loop and if-else condition print if the element is\n",
    "divisible by 3 or not.\n",
    "\n",
    "Ans :-\n",
    "\"\"\"\n",
    "\n",
    "List = [ 1, 2, 3, 4, 5, 6, 7, 8, 9, 10, 11, 12, 13, 14, 15, 16, 17, 18, 19, 20, 21, 22, 23, 24, 25 ]\n",
    "\n",
    "for i in List :\n",
    "    if i % 3 == 0 :\n",
    "        print(f\"{i} is divisible by 3\")\n",
    "    else :\n",
    "        print(f\"{i} is not divisible by 3\")\n",
    "    "
   ]
  },
  {
   "cell_type": "code",
   "execution_count": null,
   "id": "3060e88a-433d-43b1-8da0-ceceea7a5a78",
   "metadata": {},
   "outputs": [],
   "source": [
    "\"\"\"\n",
    "Q7. What do you understand about mutable and immutable data types? Give examples for both showing\n",
    "this property. \n",
    "\n",
    "Ans :-\n",
    "\n",
    "Mutable Data Types :- Data types in which their elements can be changed/modified after its creation.\n",
    "                      Examples :- List\n",
    "Immutable Data Types :- Data types which does not allows us to change its state after its creation.\n",
    "                        Examples :- String , Tuples\n",
    "                \n",
    "\"\"\""
   ]
  },
  {
   "cell_type": "code",
   "execution_count": null,
   "id": "1540b0d2-0ad0-4cb6-aec7-8a77fa556410",
   "metadata": {},
   "outputs": [],
   "source": []
  }
 ],
 "metadata": {
  "kernelspec": {
   "display_name": "Python 3 (ipykernel)",
   "language": "python",
   "name": "python3"
  },
  "language_info": {
   "codemirror_mode": {
    "name": "ipython",
    "version": 3
   },
   "file_extension": ".py",
   "mimetype": "text/x-python",
   "name": "python",
   "nbconvert_exporter": "python",
   "pygments_lexer": "ipython3",
   "version": "3.10.8"
  }
 },
 "nbformat": 4,
 "nbformat_minor": 5
}
